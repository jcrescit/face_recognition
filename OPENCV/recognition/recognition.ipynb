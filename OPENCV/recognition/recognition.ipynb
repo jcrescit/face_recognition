{
 "cells": [
  {
   "cell_type": "markdown",
   "metadata": {},
   "source": [
    "#### 얼굴을 인식하여 이미지 씌우기"
   ]
  },
  {
   "cell_type": "markdown",
   "metadata": {},
   "source": [
    "1. Face Edtection  : 얼굴을 찾는 것\n",
    "\n",
    "1. Face Recognition : 얼굴을 구분하는 것"
   ]
  },
  {
   "cell_type": "markdown",
   "metadata": {},
   "source": [
    "패키지 설치\n",
    "\n",
    "> pip install mediapipe"
   ]
  },
  {
   "cell_type": "code",
   "execution_count": 1,
   "metadata": {},
   "outputs": [],
   "source": [
    "import mediapipe as mp"
   ]
  },
  {
   "cell_type": "markdown",
   "metadata": {},
   "source": [
    "동영상 얼굴 인식"
   ]
  },
  {
   "cell_type": "code",
   "execution_count": 1,
   "metadata": {},
   "outputs": [
    {
     "data": {
      "text/plain": [
       "'\\ndetection 정보\\n\\nlabel_id: 0\\nscore: 0.972063422203064    # 신뢰도\\nlocation_data {\\n  format: RELATIVE_BOUNDING_BOX\\n  relative_bounding_box {\\n    xmin: 0.34010049700737\\n    ymin: 0.27738773822784424\\n    width: 0.16470429301261902\\n    height: 0.2928076982498169\\n  }\\n  relative_keypoints { # 얼굴에서 찾아내는 6개 특징의 좌표\\n    x: 0.39748260378837585\\n    y: 0.3514038920402527\\n  }\\n  relative_keypoints {\\n    x: 0.472693532705307\\n    y: 0.3491246700286865\\n  }\\n  relative_keypoints {\\n    x: 0.4475392699241638\\n    y: 0.41251301765441895\\n  }\\n  relative_keypoints {\\n    x: 0.4445818364620209\\n    y: 0.4767593741416931\\n  }\\n  relative_keypoints {\\n    x: 0.3378288745880127\\n    y: 0.3956125378087036\\n  }\\n  relative_keypoints {\\n    x: 0.3649260103702545\\n    y: 0.3476579189300537\\n  }\\n}\\n\\n'"
      ]
     },
     "execution_count": 1,
     "metadata": {},
     "output_type": "execute_result"
    }
   ],
   "source": [
    "import cv2\n",
    "import mediapipe as mp\n",
    "\n",
    "# 얼굴을 찾고, 찾은 얼굴에 표시를 해주기 위한 변수 정의\n",
    "mp_face_detection = mp.solutions.face_detection # 얼굴 검출을 위한 face_detection 모듈 사용\n",
    "mp_drawing = mp.solutions.drawing_utils # 얼굴의 특징을 그리기 위한 drawing_utils 모듈 사용\n",
    "\n",
    "# 동영상 파일 열기\n",
    "cap = cv2.VideoCapture('video/face_video.mp4')\n",
    "\n",
    "with mp_face_detection.FaceDetection(\n",
    "    model_selection=0, min_detection_confidence=0.7) as face_detection:\n",
    "    # model_selection = 0 : 카메라로부터 2m 이내의 근거리에 적합, =1 : 5m 이내의 근거리에 적합\n",
    "    # im_detection_confidence : 신뢰도가 특정 %이상되면, 얼굴로 인식할지 정의 (threshold와 유사한 개념)\n",
    "\n",
    "    while cap.isOpened():\n",
    "        success, image = cap.read()\n",
    "        if not success:\n",
    "            # If loading a video, use 'break' instead of 'continue'.\n",
    "            break\n",
    "\n",
    "        # To improve performance, optionally mark the image as not writeable to\n",
    "        # pass by reference.\n",
    "        image.flags.writeable = False\n",
    "        image = cv2.cvtColor(image, cv2.COLOR_BGR2RGB)\n",
    "        results = face_detection.process(image) # image로부터 얼굴을 검출해서 results로 반환\n",
    "\n",
    "        # Draw the face detection annotations on the image.\n",
    "        image.flags.writeable = True\n",
    "        image = cv2.cvtColor(image, cv2.COLOR_RGB2BGR)\n",
    "\n",
    "        if results.detections: # detection한 results가 있을 시 진행\n",
    "            # 6개 특징 : 오른쪽 눈, 왼쪽 눈, 코 끝부분, 입 중심, 오른쪽 귀, 왼쪽 귀\n",
    "            for detection in results.detections:\n",
    "                mp_drawing.draw_detection(image, detection)\n",
    "                # print(detection)\n",
    "\n",
    "        # Flip the image horizontally for a selfie-view display.\n",
    "        cv2.imshow('MediaPipe Face Detection', cv2.resize(image, None, fx=0.5, fy=0.5))\n",
    "\n",
    "        if cv2.waitKey(25) == ord('q'):\n",
    "            break\n",
    "\n",
    "cap.release()\n",
    "cv2.destroyAllWindows()\n",
    "\n",
    "'''\n",
    "detection 정보\n",
    "\n",
    "label_id: 0\n",
    "score: 0.972063422203064    # 신뢰도\n",
    "location_data {\n",
    "  format: RELATIVE_BOUNDING_BOX\n",
    "  relative_bounding_box {\n",
    "    xmin: 0.34010049700737\n",
    "    ymin: 0.27738773822784424\n",
    "    width: 0.16470429301261902\n",
    "    height: 0.2928076982498169\n",
    "  }\n",
    "  relative_keypoints { # 얼굴에서 찾아내는 6개 특징의 좌표\n",
    "    x: 0.39748260378837585\n",
    "    y: 0.3514038920402527\n",
    "  }\n",
    "  relative_keypoints {\n",
    "    x: 0.472693532705307\n",
    "    y: 0.3491246700286865\n",
    "  }\n",
    "  relative_keypoints {\n",
    "    x: 0.4475392699241638\n",
    "    y: 0.41251301765441895\n",
    "  }\n",
    "  relative_keypoints {\n",
    "    x: 0.4445818364620209\n",
    "    y: 0.4767593741416931\n",
    "  }\n",
    "  relative_keypoints {\n",
    "    x: 0.3378288745880127\n",
    "    y: 0.3956125378087036\n",
    "  }\n",
    "  relative_keypoints {\n",
    "    x: 0.3649260103702545\n",
    "    y: 0.3476579189300537\n",
    "  }\n",
    "}\n",
    "\n",
    "'''"
   ]
  },
  {
   "cell_type": "markdown",
   "metadata": {},
   "source": [
    "카메라 얼굴 인식"
   ]
  },
  {
   "cell_type": "code",
   "execution_count": 22,
   "metadata": {},
   "outputs": [],
   "source": [
    "import cv2\n",
    "import mediapipe as mp\n",
    "mp_face_detection = mp.solutions.face_detection\n",
    "mp_drawing = mp.solutions.drawing_utils\n",
    "\n",
    "\n",
    "cap = cv2.VideoCapture(0)\n",
    "with mp_face_detection.FaceDetection(\n",
    "    model_selection=0, min_detection_confidence=0.5) as face_detection:\n",
    "    while cap.isOpened():\n",
    "        success, image = cap.read()\n",
    "        if not success:\n",
    "            # If loading a video, use 'break' instead of 'continue'.\n",
    "            continue\n",
    "\n",
    "        # To improve performance, optionally mark the image as not writeable to\n",
    "        # pass by reference.\n",
    "        image.flags.writeable = False\n",
    "        image = cv2.cvtColor(image, cv2.COLOR_BGR2RGB)\n",
    "        results = face_detection.process(image)\n",
    "\n",
    "        # Draw the face detection annotations on the image.\n",
    "        image.flags.writeable = True\n",
    "        image = cv2.cvtColor(image, cv2.COLOR_RGB2BGR)\n",
    "        if results.detections:\n",
    "            for detection in results.detections:\n",
    "                mp_drawing.draw_detection(image, detection)\n",
    "\n",
    "        # Flip the image horizontally for a selfie-view display.\n",
    "        cv2.imshow('MediaPipe Face Detection', cv2.resize(image, None, fx=0.5, fy=0.5))\n",
    "\n",
    "        if cv2.waitKey(1) == ord('q'):\n",
    "            break\n",
    "\n",
    "cap.release()\n",
    "cv2.destroyAllWindows()"
   ]
  },
  {
   "cell_type": "code",
   "execution_count": 3,
   "metadata": {},
   "outputs": [],
   "source": [
    "import cv2\n",
    "import mediapipe as mp\n",
    "\n",
    "'''\n",
    "4 channel image(대상 이미지)에서 3 channel image(덮어씌우는 이미지) 넣을 수 없는 오류가 발생하므로 추가적인 연산이 필요함\n",
    "\n",
    "ValueError : could not broadcast input array from shape (100, 100, 4) into shape (100, 100, 3)\n",
    "\n",
    "'''\n",
    "def overlay(image, x, y, w, h, overlay_image): # image : 대상 이미지 (3 channel) / x, y : 대상 이미지에서 적용할 좌표 / w, h : (x, y) 기준으로 가로크기얼마세로크기얼마 바꿀지정의 / overlay_image : 덮어씌울 이미지 (4 channel)\n",
    "    alpha = overlay_image[:, :, 3] # BGRA에서 Alpha 값만 추출\n",
    "    mask_image = alpha / 255\n",
    "    # 0~255 -> 255로 나누면 0~1 사이의 값 (1 : 불투명, 0 : 투명)\n",
    "    # 1은 완전 불투명이므로 everlay_image에서 가져다 쓰며 0은 완전 투명하므로 대상 이미지에서 픽셀을 가져다 씀\n",
    "\n",
    "    for c in range(0, 3): # 0 ~ 2 channel ->  BGR\n",
    "        image[y-h:y+h, x-w:x+w, c] = (overlay_image[:, :, c] * mask_image) + (image[y-h:y+h, x-w:x+w, c] * (1 - mask_image))\n",
    "\n",
    "    # alpha         ->  mask_image      ->      1 - mask_image\n",
    "    # (255, 255)    ->  (1, 1)          ->      (0, 0)\n",
    "    # (255, 0)      ->  (1, 0)          ->      (0, 1)\n",
    "    # (255, x)      ->  (1, 0.3)        ->      (0, 0.7)\n",
    "\n",
    "    # 반전된 영역의 값 (1 - mask_image)을 원래 대상 이미지(image[y-h:y+h, x-w:x+w, c])와 곱해서 대상 이미지의 색을 바꿔줌\n",
    "    # 완전 투명한 영역은 대상 이미지에서 사용하고, 완전 불투명한 영역은 overlay_image에서 사용함\n",
    "\n",
    "\n",
    "# 얼굴을 찾고, 첮은 얼굴에 표시를 해주기 위한 변수 정의\n",
    "mp_face_detection = mp.solutions.face_detection # 얼굴 검출을 위한 face_detection 모듈 사용\n",
    "mp_drawing = mp.solutions.drawing_utils # 얼굴의 특징을 그리기 위한 drawing_utils 모듈 사용\n",
    "\n",
    "# 동영상 파일 열기\n",
    "cap = cv2.VideoCapture('video/face_video.mp4')\n",
    "\n",
    "# 이미지 불러오기\n",
    "image_right_eye = cv2.imread('image/right_eye_2.png', cv2.IMREAD_UNCHANGED)\n",
    "image_left_eye = cv2.imread('image/left_eye_2.png', cv2.IMREAD_UNCHANGED)\n",
    "image_nose = cv2.imread('image/nose_2.png', cv2.IMREAD_UNCHANGED)\n",
    "\n",
    "'''\n",
    "right_eye_2.png 는 투명 이미지까지 포함하므로 shape에서 channel은 BGR에 투명도까지 포함하여 총 4개\n",
    "하지만,\n",
    "image_right_eye = cv2.imread('image/right_eye_2.png')에서 shape는 BGR까지 3개 출력됨\n",
    "여기서 추가적으로 cv2.IMREAD_UNCHANGED 입력\n",
    "image_right_eye = cv2.imread('image/right_eye_2.png', cv2.IMREAD_UNCHANGED)은 channel이 4개 출력됨\n",
    "\n",
    "'''\n",
    "\n",
    "\n",
    "with mp_face_detection.FaceDetection(\n",
    "    model_selection=0, min_detection_confidence=0.7) as face_detection:\n",
    "    # model_selection = 0 : 카메라로부터 2m 이내의 근거리에 적합, =1 : 5m 이내의 근거리에 적합\n",
    "    # im_detection_confidence : 신뢰도가 특정 %이상되면, 얼굴로 인식할지 정의 (threshold와 유사한 개념)\n",
    "\n",
    "    while cap.isOpened():\n",
    "        success, image = cap.read()\n",
    "        if not success:\n",
    "            # If loading a video, use 'break' instead of 'continue'.\n",
    "            break\n",
    "\n",
    "        # To improve performance, optionally mark the image as not writeable to\n",
    "        # pass by reference.\n",
    "        image.flags.writeable = False\n",
    "        image = cv2.cvtColor(image, cv2.COLOR_BGR2RGB)\n",
    "        results = face_detection.process(image) # image로부터 얼굴을 검출해서 results로 반환\n",
    "\n",
    "        # Draw the face detection annotations on the image.\n",
    "        image.flags.writeable = True\n",
    "        image = cv2.cvtColor(image, cv2.COLOR_RGB2BGR)\n",
    "\n",
    "        if results.detections: # detection한 results가 있을 시 진행\n",
    "            # 6개 특징 : 오른쪽 눈, 왼쪽 눈, 코 끝부분, 입 중심, 오른쪽 귀, 왼쪽 귀\n",
    "            for detection in results.detections:\n",
    "                mp_drawing.draw_detection(image, detection)\n",
    "                # print(detection)\n",
    "\n",
    "                # 특정 위치 가져오기\n",
    "                keypoints = detection.location_data.relative_keypoints\n",
    "                right_eye = keypoints[0] # 오른쪽 눈\n",
    "                left_eye = keypoints[1] # 왼쪽 눈\n",
    "                nose_tip = keypoints[2] # 코 끝부분\n",
    "\n",
    "                h, w, _ = image.shape # height, width, channel : 이미지로부터 세로, 가로 크기 가져옴 (channel은 필요없으므로 _처리)\n",
    "                right_eye = (int(right_eye.x * w) - 20, int(right_eye.y * h) - 100) # 이미지 내에서 실제 좌표 (x, y) 튜플형태로 저장\n",
    "                left_eye = (int(left_eye.x * w) + 20, int(left_eye.y * h) - 100)\n",
    "                nose_tip =(int(nose_tip.x * w), int(nose_tip.y * h))\n",
    "\n",
    "                # 양 눈에 circle 그리기\n",
    "                # cv2.circle(image, right_eye, 50, (255, 0, 0), 10, cv2.LINE_AA) # blue\n",
    "                # cv2.circle(image, left_eye, 50, (0, 255, 0), 10, cv2.LINE_AA) # blue\n",
    "                # cv2.circle(image, nose_tip, 75, (0, 255, 255), 10, cv2.LINE_AA) # blue\n",
    "\n",
    "                # 각 특징에 이미지 그리기\n",
    "                # image[right_eye[1] -50:right_eye[1] + 50, right_eye[0] - 50:right_eye[0] + 50] = image_right_eye\n",
    "                # image[left_eye[1] -50:left_eye[1] + 50, left_eye[0] - 50:left_eye[0] + 50] = image_left_eye\n",
    "                # image[nose_tip[1] -50:nose_tip[1] + 50, nose_tip[0] - 150:nose_tip[0] + 150] = image_nose\n",
    "\n",
    "                # image, x, y, w, h, overlay_image\n",
    "                overlay(image, *right_eye, 50, 50, image_right_eye)\n",
    "                overlay(image, *left_eye, 50, 50, image_left_eye)\n",
    "                overlay(image, *nose_tip, 150, 50, image_nose)\n",
    "                \n",
    "                \n",
    "\n",
    "\n",
    "        # Flip the image horizontally for a selfie-view display.\n",
    "        cv2.imshow('MediaPipe Face Detection', cv2.resize(image, None, fx=0.5, fy=0.5))\n",
    "\n",
    "        if cv2.waitKey(25) == ord('q'):\n",
    "            break\n",
    "\n",
    "cap.release()\n",
    "cv2.destroyAllWindows()\n"
   ]
  },
  {
   "cell_type": "code",
   "execution_count": 24,
   "metadata": {},
   "outputs": [
    {
     "data": {
      "text/plain": [
       "(100, 100, 4)"
      ]
     },
     "execution_count": 24,
     "metadata": {},
     "output_type": "execute_result"
    }
   ],
   "source": [
    "image_right_eye = cv2.imread('image/right_eye_2.png', cv2.IMREAD_UNCHANGED)\n",
    "image_right_eye.shape"
   ]
  },
  {
   "cell_type": "code",
   "execution_count": 25,
   "metadata": {},
   "outputs": [
    {
     "data": {
      "text/plain": [
       "(100, 100, 3)"
      ]
     },
     "execution_count": 25,
     "metadata": {},
     "output_type": "execute_result"
    }
   ],
   "source": [
    "image_right_eye = cv2.imread('image/right_eye_2.png')\n",
    "image_right_eye.shape"
   ]
  }
 ],
 "metadata": {
  "interpreter": {
   "hash": "0f4daa7d44624ea6fb90d1c8e3dd05826a8c8261e450d62c912134e2538ab10c"
  },
  "kernelspec": {
   "display_name": "Python 3.9.7 ('base')",
   "language": "python",
   "name": "python3"
  },
  "language_info": {
   "codemirror_mode": {
    "name": "ipython",
    "version": 3
   },
   "file_extension": ".py",
   "mimetype": "text/x-python",
   "name": "python",
   "nbconvert_exporter": "python",
   "pygments_lexer": "ipython3",
   "version": "3.9.7"
  },
  "orig_nbformat": 4
 },
 "nbformat": 4,
 "nbformat_minor": 2
}
