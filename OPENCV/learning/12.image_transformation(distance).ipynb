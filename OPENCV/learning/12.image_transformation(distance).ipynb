{
 "cells": [
  {
   "cell_type": "markdown",
   "metadata": {},
   "source": [
    "#### 14. Image transformation (distance)"
   ]
  },
  {
   "cell_type": "markdown",
   "metadata": {},
   "source": [
    "##### 사다리꼴 이미지 직사각형 이미지로 변형"
   ]
  },
  {
   "cell_type": "code",
   "execution_count": 1,
   "metadata": {},
   "outputs": [],
   "source": [
    "import cv2\n",
    "import numpy as np\n",
    "\n",
    "img = cv2.imread('image/newspaper.jpg')\n",
    "\n",
    "width, height = 640, 240 # 가로 640, 세로 240으로 결과물 출력\n",
    "\n",
    "# input data 4개 정의 (좌상단, 우상단, 우하단, 좌하단 순서로 data 정의 - 시계방향)\n",
    "src = np.array([[511, 352], [1008, 345], [1122, 584], [455, 594]], dtype = np.float32) # 점 4개를 하나의 리스트로 지정\n",
    "\n",
    "# output data 4개 정의\n",
    "dst = np.array([[0, 0], [width, 0], [width, height], [0, height]], dtype = np.float32)\n",
    "\n",
    "matrix = cv2.getPerspectiveTransform(src, dst) # src영역을 dst영역으로 바꾸기 위한 변환matrix를 얻어옴\n",
    "result = cv2.warpPerspective(img, matrix, (width, height)) # 변환matrix을 적용해서 최종 img을 불러옴\n",
    "\n",
    "cv2.imshow('img', img)\n",
    "cv2.imshow('result', result)\n",
    "cv2.waitKey(0)\n",
    "cv2.destroyAllWindows()"
   ]
  },
  {
   "cell_type": "markdown",
   "metadata": {},
   "source": [
    "##### 회전된 이미지 바로 세우기"
   ]
  },
  {
   "cell_type": "code",
   "execution_count": 6,
   "metadata": {},
   "outputs": [],
   "source": [
    "import cv2\n",
    "import numpy as np\n",
    "\n",
    "img_poker = cv2.imread('image/poker.jpg')\n",
    "\n",
    "width_poker, height_poker = 530, 710\n",
    "\n",
    "src_poker = np.array([[702, 143], [1133, 414], [726, 1007], [276, 700]], dtype = np.float32)\n",
    "\n",
    "dst_poker = np.array([[0, 0], [width_poker, 0], [width_poker, height_poker], [0, height_poker]], dtype = np.float32)\n",
    "\n",
    "matrix_poker = cv2.getPerspectiveTransform(src_poker, dst_poker)\n",
    "result_poker = cv2.warpPerspective(img_poker, matrix_poker, (width_poker, height_poker))\n",
    "\n",
    "cv2.imshow('img', img_poker)\n",
    "cv2.imshow('result', result_poker)\n",
    "cv2.waitKey(0)\n",
    "cv2.destroyAllWindows()"
   ]
  }
 ],
 "metadata": {
  "interpreter": {
   "hash": "7b4b4feff2f24a0f0a34464dbe537a36fda679851528fb8735cb41fa49dffb2d"
  },
  "kernelspec": {
   "display_name": "Python 3.9.11 ('base')",
   "language": "python",
   "name": "python3"
  },
  "language_info": {
   "codemirror_mode": {
    "name": "ipython",
    "version": 3
   },
   "file_extension": ".py",
   "mimetype": "text/x-python",
   "name": "python",
   "nbconvert_exporter": "python",
   "pygments_lexer": "ipython3",
   "version": "3.9.11"
  },
  "orig_nbformat": 4
 },
 "nbformat": 4,
 "nbformat_minor": 2
}
