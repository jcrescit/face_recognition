{
 "cells": [
  {
   "cell_type": "markdown",
   "metadata": {},
   "source": [
    "#### 14. Image Conversion (Expansion)"
   ]
  },
  {
   "cell_type": "markdown",
   "metadata": {},
   "source": [
    "##### 이미지를 확장하여 작은 구멍을 채움\n",
    "\n",
    "흰색 영역의 외곽 픽셀 주변에 흰색 추가"
   ]
  },
  {
   "cell_type": "code",
   "execution_count": 1,
   "metadata": {},
   "outputs": [],
   "source": [
    "import cv2\n",
    "import numpy as np\n",
    "\n",
    "kernel = np.zeros((3, 3), dtype = np.uint8)\n",
    "\n",
    "img = cv2.imread('image/dilate.png', cv2.IMREAD_GRAYSCALE)\n",
    "\n",
    "dilate_1 = cv2.dilate(img, kernel, iterations = 1) # iteratinos : 반복횟수\n",
    "dilate_2 = cv2.dilate(img, kernel, iterations = 2)\n",
    "dilate_3 = cv2.dilate(img, kernel, iterations = 3)\n",
    "\n",
    "cv2.imshow('original image', img)\n",
    "cv2.imshow('dilate image(iteration : 1)', dilate_1)\n",
    "cv2.imshow('dilate image(iteration : 2)', dilate_2)\n",
    "cv2.imshow('dilate image(iteration : 3)', dilate_3)\n",
    "\n",
    "cv2.waitKey(0)\n",
    "cv2.destroyAllWindows()"
   ]
  }
 ],
 "metadata": {
  "interpreter": {
   "hash": "7b4b4feff2f24a0f0a34464dbe537a36fda679851528fb8735cb41fa49dffb2d"
  },
  "kernelspec": {
   "display_name": "Python 3.9.11 ('base')",
   "language": "python",
   "name": "python3"
  },
  "language_info": {
   "codemirror_mode": {
    "name": "ipython",
    "version": 3
   },
   "file_extension": ".py",
   "mimetype": "text/x-python",
   "name": "python",
   "nbconvert_exporter": "python",
   "pygments_lexer": "ipython3",
   "version": "3.9.11"
  },
  "orig_nbformat": 4
 },
 "nbformat": 4,
 "nbformat_minor": 2
}
