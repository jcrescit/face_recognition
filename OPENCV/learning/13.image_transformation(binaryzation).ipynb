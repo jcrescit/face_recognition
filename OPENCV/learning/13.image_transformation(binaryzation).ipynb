{
 "cells": [
  {
   "cell_type": "markdown",
   "metadata": {},
   "source": [
    "#### 13. Image transformation (Binaryzation)"
   ]
  },
  {
   "cell_type": "markdown",
   "metadata": {},
   "source": [
    "특정값을 기준으로 흰색과 검은색만으로 나눔"
   ]
  },
  {
   "cell_type": "code",
   "execution_count": 4,
   "metadata": {},
   "outputs": [],
   "source": [
    "import cv2\n",
    "\n",
    "img = cv2.imread('image/book.jpg', cv2.IMREAD_GRAYSCALE) # image을 grayscale로 불러옴\n",
    "\n",
    "# 불러온 image을 기준(127)에 따라 흰색, 검은색으로 변경\n",
    "ret, binary = cv2.threshold(img, 127, 255, cv2.THRESH_BINARY)\n",
    "\n",
    "cv2.imshow('img', img)\n",
    "cv2.imshow('binary', binary)\n",
    "cv2.waitKey(0)\n",
    "cv2.destroyAllWindows()"
   ]
  },
  {
   "cell_type": "markdown",
   "metadata": {},
   "source": [
    "##### Trackbar(값 변화에 다른 변형 확인)"
   ]
  },
  {
   "cell_type": "code",
   "execution_count": 7,
   "metadata": {},
   "outputs": [
    {
     "ename": "error",
     "evalue": "OpenCV(4.5.5) D:\\a\\opencv-python\\opencv-python\\opencv\\modules\\highgui\\src\\window_w32.cpp:2581: error: (-27:Null pointer) NULL window: 'Trackbar' in function 'cvGetTrackbarPos'\n",
     "output_type": "error",
     "traceback": [
      "\u001b[1;31m---------------------------------------------------------------------------\u001b[0m",
      "\u001b[1;31merror\u001b[0m                                     Traceback (most recent call last)",
      "\u001b[1;32md:\\Computer_Vision\\computer__vision\\OPENCV\\learning\\13.image_transformation(binaryzation).ipynb Cell 5'\u001b[0m in \u001b[0;36m<cell line: 20>\u001b[1;34m()\u001b[0m\n\u001b[0;32m     <a href='vscode-notebook-cell:/d%3A/Computer_Vision/computer__vision/OPENCV/learning/13.image_transformation%28binaryzation%29.ipynb#ch0000006?line=16'>17</a>\u001b[0m cv2\u001b[39m.\u001b[39mcreateTrackbar(\u001b[39m'\u001b[39m\u001b[39mthreshold\u001b[39m\u001b[39m'\u001b[39m, name, \u001b[39m127\u001b[39m, \u001b[39m255\u001b[39m, empty) \u001b[39m# cv2.createTrackbar(bar이름, 창의 이름, 초기값, 최대값, 이벤트 처리)\u001b[39;00m\n\u001b[0;32m     <a href='vscode-notebook-cell:/d%3A/Computer_Vision/computer__vision/OPENCV/learning/13.image_transformation%28binaryzation%29.ipynb#ch0000006?line=18'>19</a>\u001b[0m \u001b[39mwhile\u001b[39;00m \u001b[39mTrue\u001b[39;00m:\n\u001b[1;32m---> <a href='vscode-notebook-cell:/d%3A/Computer_Vision/computer__vision/OPENCV/learning/13.image_transformation%28binaryzation%29.ipynb#ch0000006?line=19'>20</a>\u001b[0m     thresh \u001b[39m=\u001b[39m cv2\u001b[39m.\u001b[39;49mgetTrackbarPos(\u001b[39m'\u001b[39;49m\u001b[39mthreshold\u001b[39;49m\u001b[39m'\u001b[39;49m, name) \u001b[39m# cv2.getTrackbarPos(bar이름, 창의 이름)\u001b[39;00m\n\u001b[0;32m     <a href='vscode-notebook-cell:/d%3A/Computer_Vision/computer__vision/OPENCV/learning/13.image_transformation%28binaryzation%29.ipynb#ch0000006?line=20'>21</a>\u001b[0m     ret, binary \u001b[39m=\u001b[39m cv2\u001b[39m.\u001b[39mthreshold(img, thresh, \u001b[39m255\u001b[39m, cv2\u001b[39m.\u001b[39mTHRESH_BINARY)\n\u001b[0;32m     <a href='vscode-notebook-cell:/d%3A/Computer_Vision/computer__vision/OPENCV/learning/13.image_transformation%28binaryzation%29.ipynb#ch0000006?line=22'>23</a>\u001b[0m     \u001b[39mif\u001b[39;00m \u001b[39mnot\u001b[39;00m ret:\n",
      "\u001b[1;31merror\u001b[0m: OpenCV(4.5.5) D:\\a\\opencv-python\\opencv-python\\opencv\\modules\\highgui\\src\\window_w32.cpp:2581: error: (-27:Null pointer) NULL window: 'Trackbar' in function 'cvGetTrackbarPos'\n"
     ]
    }
   ],
   "source": [
    "import cv2\n",
    "\n",
    "img = cv2.imread('image/book.jpg', cv2.IMREAD_GRAYSCALE)\n",
    "\n",
    "# trackbar 윈도우이름 설정\n",
    "name = 'Trackbar'\n",
    "cv2.namedWindow(name)\n",
    "\n",
    "# trackbar 이벤트처리 함수 생성\n",
    "def empty(pos):\n",
    "    # print(pos)\n",
    "    pass\n",
    "\n",
    "# trackbar 생성\n",
    "cv2.createTrackbar('threshold', name, 127, 255, empty) # cv2.createTrackbar(bar이름, 창의 이름, 초기값, 최대값, 이벤트 처리)\n",
    "\n",
    "while True:\n",
    "    thresh = cv2.getTrackbarPos('threshold', name) # cv2.getTrackbarPos(bar이름, 창의 이름)\n",
    "    ret, binary = cv2.threshold(img, thresh, 255, cv2.THRESH_BINARY)\n",
    "\n",
    "    if not ret:\n",
    "        break\n",
    "\n",
    "    cv2.imshow(name, binary)\n",
    "    \n",
    "    if cv2.waitKey(1) == ord('q'):\n",
    "        break\n",
    "\n",
    "cv2.destroyAllWindows()"
   ]
  }
 ],
 "metadata": {
  "interpreter": {
   "hash": "7b4b4feff2f24a0f0a34464dbe537a36fda679851528fb8735cb41fa49dffb2d"
  },
  "kernelspec": {
   "display_name": "Python 3.9.11 ('base')",
   "language": "python",
   "name": "python3"
  },
  "language_info": {
   "codemirror_mode": {
    "name": "ipython",
    "version": 3
   },
   "file_extension": ".py",
   "mimetype": "text/x-python",
   "name": "python",
   "nbconvert_exporter": "python",
   "pygments_lexer": "ipython3",
   "version": "3.9.11"
  },
  "orig_nbformat": 4
 },
 "nbformat": 4,
 "nbformat_minor": 2
}
