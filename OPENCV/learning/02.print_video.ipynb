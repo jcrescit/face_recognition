{
 "cells": [
  {
   "cell_type": "markdown",
   "metadata": {},
   "source": [
    "#### 2. Print video"
   ]
  },
  {
   "cell_type": "markdown",
   "metadata": {},
   "source": [
    "Video file print\n",
    "\n",
    "> cv2.VideoCapture(파일경로) : 동영상 파일의 첫 프레임을 읽어 저장\n",
    "\n",
    "다음 frame 읽기\n",
    "\n",
    "> ret, frame = cap.read() : 다음 프레임 읽기\n",
    "\n",
    ">> ret : 성공 여부 (True, False 반환), frame : 받아온 이미지"
   ]
  },
  {
   "cell_type": "code",
   "execution_count": 13,
   "metadata": {},
   "outputs": [
    {
     "name": "stdout",
     "output_type": "stream",
     "text": [
      "더 이상 가져올 프레임이 없음\n"
     ]
    }
   ],
   "source": [
    "import cv2\n",
    "\n",
    "cap = cv2.VideoCapture('video/video.mp4')\n",
    "\n",
    "# 반복적으로 frame을 가져오는 작업\n",
    "while cap.isOpened(): # 동영상 파일이 올바로 열렸는지 확인 (올바르게 열리면 while문 작동)\n",
    "    ret, frame = cap.read() # ret : 성공 여부, frame : 받아온 이미지\n",
    "\n",
    "    if not ret: # ret가 false인 경우 받아올 frame이 없음\n",
    "        print('더 이상 가져올 프레임이 없음')\n",
    "        break\n",
    "\n",
    "    cv2.imshow('video', frame) # ret가 true인 경우\n",
    "\n",
    "    if cv2.waitKey(25) == ord('q'): # 키 입력으로 반복문 탈출\n",
    "        print('사용자 입력에 의해 종료합니다')\n",
    "        break\n",
    "\n",
    "cap.release() # 자원 해제\n",
    "cv2.destroyAllWindows() # 모든 창 닫기"
   ]
  },
  {
   "cell_type": "code",
   "execution_count": 2,
   "metadata": {},
   "outputs": [
    {
     "name": "stdout",
     "output_type": "stream",
     "text": [
      "사용자 입력에 의해 종료\n"
     ]
    }
   ],
   "source": [
    "import cv2\n",
    "\n",
    "cap = cv2.VideoCapture('video/video.mp4')\n",
    "\n",
    "# 반복적으로 frame을 가져오는 작업\n",
    "while cap.isOpened(): # 동영상 파일이 올바로 열렸는지 확인 (올바르게 열리면 while문 작동)\n",
    "    ret, frame = cap.read() # ret : 성공 여부, frame : 받아온 이미지\n",
    "\n",
    "    cv2.imshow('video', frame)\n",
    "\n",
    "    if cv2.waitKey(25) == ord('q'):\n",
    "        print('사용자 입력에 의해 종료')\n",
    "        break\n",
    "\n",
    "    if not ret:\n",
    "        print('더 이상 가져올 프레임이 없음')\n",
    "        break\n",
    "    \n",
    "cap.release() # 자원 해제\n",
    "cv2.destroyAllWindows() # 모든 창 닫기"
   ]
  },
  {
   "cell_type": "markdown",
   "metadata": {},
   "source": [
    "##### camera print"
   ]
  },
  {
   "cell_type": "code",
   "execution_count": 10,
   "metadata": {},
   "outputs": [],
   "source": [
    "import cv2\n",
    "\n",
    "cap = cv2.VideoCapture(0) # : 0번째 카메라 장치 (device ID)\n",
    "\n",
    "if not cap.isOpened(): # 카메라가 잘 열리지 않은 경우\n",
    "    exit() # 프로그램 종료\n",
    "\n",
    "while True:\n",
    "    ret, frame = cap.read()\n",
    "    if not ret:\n",
    "        break\n",
    "\n",
    "    cv2.imshow('camera', frame)\n",
    "    if cv2.waitKey(1) == ord('q'):\n",
    "        break\n",
    "\n",
    "cap.release()\n",
    "cv2.destroyAllWindows()\n"
   ]
  }
 ],
 "metadata": {
  "interpreter": {
   "hash": "c0b60051a1e694fd7fc0ce7ba611b41daece9973287e30f371a24009b1a19eaa"
  },
  "kernelspec": {
   "display_name": "Python 3.9.1 64-bit",
   "language": "python",
   "name": "python3"
  },
  "language_info": {
   "codemirror_mode": {
    "name": "ipython",
    "version": 3
   },
   "file_extension": ".py",
   "mimetype": "text/x-python",
   "name": "python",
   "nbconvert_exporter": "python",
   "pygments_lexer": "ipython3",
   "version": "3.9.7"
  },
  "orig_nbformat": 4
 },
 "nbformat": 4,
 "nbformat_minor": 2
}
