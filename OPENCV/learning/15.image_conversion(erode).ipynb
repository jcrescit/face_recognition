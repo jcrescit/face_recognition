{
 "cells": [
  {
   "cell_type": "markdown",
   "metadata": {},
   "source": [
    "#### 15. Image Conversion (Erode)"
   ]
  },
  {
   "cell_type": "markdown",
   "metadata": {},
   "source": [
    "##### 이미지를 깎아서 노이즈 제거\n",
    "\n",
    "흰색 영역의 외곽 픽셀을 검은색으로 변경"
   ]
  },
  {
   "cell_type": "code",
   "execution_count": 1,
   "metadata": {},
   "outputs": [],
   "source": [
    "import cv2\n",
    "import numpy as np\n",
    "\n",
    "kernel = np.ones((3, 3), dtype = np.uint8)\n",
    "\n",
    "img = cv2.imread('image/erode.png', cv2.IMREAD_GRAYSCALE)\n",
    "\n",
    "erode_1 = cv2.erode(img, kernel, iterations = 1)\n",
    "erode_2 = cv2.erode(img, kernel, iterations = 2)\n",
    "erode_3 = cv2.erode(img, kernel, iterations = 3)\n",
    "\n",
    "cv2.imshow('original image', img)\n",
    "cv2.imshow('erode image(iteration : 1)', erode_1)\n",
    "cv2.imshow('erode image(iteration : 2)', erode_2)\n",
    "cv2.imshow('erode image(iteration : 3)', erode_3)\n",
    "\n",
    "cv2.waitKey(0)\n",
    "cv2.destroyAllWindows()"
   ]
  }
 ],
 "metadata": {
  "interpreter": {
   "hash": "7b4b4feff2f24a0f0a34464dbe537a36fda679851528fb8735cb41fa49dffb2d"
  },
  "kernelspec": {
   "display_name": "Python 3.9.11 ('base')",
   "language": "python",
   "name": "python3"
  },
  "language_info": {
   "codemirror_mode": {
    "name": "ipython",
    "version": 3
   },
   "file_extension": ".py",
   "mimetype": "text/x-python",
   "name": "python",
   "nbconvert_exporter": "python",
   "pygments_lexer": "ipython3",
   "version": "3.9.11"
  },
  "orig_nbformat": 4
 },
 "nbformat": 4,
 "nbformat_minor": 2
}
